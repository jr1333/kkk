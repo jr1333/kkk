{
 "cells": [
  {
   "cell_type": "code",
   "execution_count": null,
   "metadata": {},
   "outputs": [],
   "source": [
    "# crawl"
   ]
  },
  {
   "cell_type": "code",
   "execution_count": 1,
   "metadata": {
    "ExecuteTime": {
     "end_time": "2023-05-08T11:55:48.655782Z",
     "start_time": "2023-05-08T11:55:46.044929Z"
    }
   },
   "outputs": [],
   "source": [
    "# 网页访问（Requests库），将网页保存下来,保存到response.txt\n",
    "import requests\n",
    "from bs4 import BeautifulSoup\n",
    "import pandas as pd\n",
    "url = 'http://guba.eastmoney.com/list,hk00700,1,f.html'#开发者工具获取url\n",
    "response = requests.get(url)\n",
    "response#Response [200] 2开头表示访问正常\n",
    "with open('response.txt', 'w', encoding='utf-8') as f:\n",
    "    f.write(response.content.decode('utf-8'))"
   ]
  },
  {
   "cell_type": "code",
   "execution_count": null,
   "metadata": {},
   "outputs": [],
   "source": []
  },
  {
   "cell_type": "code",
   "execution_count": 2,
   "metadata": {
    "ExecuteTime": {
     "end_time": "2023-05-07T11:41:25.521542Z",
     "start_time": "2023-05-07T11:41:25.505920Z"
    }
   },
   "outputs": [],
   "source": [
    "# import requests\n",
    "import requests\n",
    "from bs4 import BeautifulSoup\n",
    "import pandas as pd\n",
    "\n",
    "# 定义爬取的页面链接和页码\n",
    "url_template = 'http://guba.eastmoney.com/list,hk02799,1,f_{}.html'\n",
    "pages = [1, 2, 3, 4, 5, 6, 7, 8, 9, 10]  # 需要爬取的页码\n",
    "\n",
    "# 定义存储结果的空 DataFrame\n",
    "df = pd.DataFrame(columns=['read', 'reply', 'title', 'author', 'update'])"
   ]
  },
  {
   "cell_type": "code",
   "execution_count": 3,
   "metadata": {
    "ExecuteTime": {
     "end_time": "2023-05-07T11:42:36.194587Z",
     "start_time": "2023-05-07T11:42:30.652535Z"
    }
   },
   "outputs": [
    {
     "ename": "AttributeError",
     "evalue": "'NoneType' object has no attribute 'find_all'",
     "output_type": "error",
     "traceback": [
      "\u001b[1;31m---------------------------------------------------------------------------\u001b[0m",
      "\u001b[1;31mAttributeError\u001b[0m                            Traceback (most recent call last)",
      "\u001b[1;32m<ipython-input-3-8c482f00fe25>\u001b[0m in \u001b[0;36m<module>\u001b[1;34m()\u001b[0m\n\u001b[0;32m      7\u001b[0m     \u001b[0msoup\u001b[0m \u001b[1;33m=\u001b[0m \u001b[0mBeautifulSoup\u001b[0m\u001b[1;33m(\u001b[0m\u001b[0mresponse\u001b[0m\u001b[1;33m.\u001b[0m\u001b[0mcontent\u001b[0m\u001b[1;33m,\u001b[0m \u001b[1;34m'html.parser'\u001b[0m\u001b[1;33m)\u001b[0m\u001b[1;33m\u001b[0m\u001b[0m\n\u001b[0;32m      8\u001b[0m     \u001b[0mtbody\u001b[0m \u001b[1;33m=\u001b[0m \u001b[0msoup\u001b[0m\u001b[1;33m.\u001b[0m\u001b[0mfind\u001b[0m\u001b[1;33m(\u001b[0m\u001b[1;34m'tbody'\u001b[0m\u001b[1;33m,\u001b[0m \u001b[0mclass_\u001b[0m\u001b[1;33m=\u001b[0m\u001b[1;34m'listbody'\u001b[0m\u001b[1;33m)\u001b[0m\u001b[1;33m\u001b[0m\u001b[0m\n\u001b[1;32m----> 9\u001b[1;33m     \u001b[0mtr_list\u001b[0m \u001b[1;33m=\u001b[0m \u001b[0mtbody\u001b[0m\u001b[1;33m.\u001b[0m\u001b[0mfind_all\u001b[0m\u001b[1;33m(\u001b[0m\u001b[1;34m'tr'\u001b[0m\u001b[1;33m,\u001b[0m \u001b[0mclass_\u001b[0m\u001b[1;33m=\u001b[0m\u001b[1;34m'listitem'\u001b[0m\u001b[1;33m)\u001b[0m\u001b[1;31m#找到所有帖子所在的标签\u001b[0m\u001b[1;33m\u001b[0m\u001b[0m\n\u001b[0m\u001b[0;32m     10\u001b[0m     \u001b[1;32mfor\u001b[0m \u001b[0mtr\u001b[0m \u001b[1;32min\u001b[0m \u001b[0mtr_list\u001b[0m\u001b[1;33m:\u001b[0m\u001b[1;33m\u001b[0m\u001b[0m\n\u001b[0;32m     11\u001b[0m         \u001b[0mread\u001b[0m \u001b[1;33m=\u001b[0m \u001b[0mtr\u001b[0m\u001b[1;33m.\u001b[0m\u001b[0mfind\u001b[0m\u001b[1;33m(\u001b[0m\u001b[1;34m'div'\u001b[0m\u001b[1;33m,\u001b[0m \u001b[0mclass_\u001b[0m\u001b[1;33m=\u001b[0m\u001b[1;34m'read'\u001b[0m\u001b[1;33m)\u001b[0m\u001b[1;33m.\u001b[0m\u001b[0mtext\u001b[0m\u001b[1;31m#获取帖子阅读数\u001b[0m\u001b[1;33m\u001b[0m\u001b[0m\n",
      "\u001b[1;31mAttributeError\u001b[0m: 'NoneType' object has no attribute 'find_all'"
     ]
    }
   ],
   "source": [
    "# 循环遍历每个页码，依次爬取内容并存储到 DataFrame 中\n",
    "# 首先，使用lxml解析器解析HTML内容，\n",
    "# 然后使用BeautifulSoup来查找目标元素，提取其中的文本内容。\n",
    "for page in pages:\n",
    "    url = url_template.format(page)\n",
    "    response = requests.get(url)\n",
    "    soup = BeautifulSoup(response.content, 'html.parser')\n",
    "    tbody = soup.find('tbody', class_='listbody')\n",
    "    tr_list = tbody.find_all('tr', class_='listitem')#找到所有帖子所在的标签\n",
    "    for tr in tr_list:\n",
    "        read = tr.find('div', class_='read').text#获取帖子阅读数\n",
    "        reply = tr.find('div', class_='reply').text#获取帖子评论数\n",
    "        title = tr.find('div', class_='title').a.text#获取帖子标题\n",
    "        author = tr.find('div', class_='author').a.text#获取作者id\n",
    "        update = tr.find('div', class_='update').text#获取更新时间\n",
    "        df = df.append({'read': read, 'reply': reply, 'title': title, 'author': author, 'update': update},\n",
    "                       ignore_index=True)"
   ]
  },
  {
   "cell_type": "code",
   "execution_count": 7,
   "metadata": {
    "ExecuteTime": {
     "end_time": "2023-05-07T11:42:42.282541Z",
     "start_time": "2023-05-07T11:42:42.019474Z"
    }
   },
   "outputs": [],
   "source": [
    "# 将 DataFrame 存储到 Excel 文件中\n",
    "df.to_excel('results.xlsx', index=False)"
   ]
  },
  {
   "cell_type": "code",
   "execution_count": 6,
   "metadata": {},
   "outputs": [
    {
     "data": {
      "text/plain": [
       "'\\n本文的目标是爬取股吧的帖子信息，中国华融的名称代码为hk02799。 \\n首页： http://guba.eastmoney.com/list,hk02799,1,f.html 第二页： http://guba.eastmoney.com/list,hk02799,1,f_{2}.html 第{i}页： http://guba.eastmoney.com/list,hk02799,1,f_{}.html \\n通过观察，可以看出股吧链接后缀主要由三部分组成：list、名称代码、页数。 因此，我们可以构建for循环，爬取多页的数据。\\n'"
      ]
     },
     "execution_count": 6,
     "metadata": {},
     "output_type": "execute_result"
    }
   ],
   "source": [
    "# \n",
    "\"\"\"\n",
    "本部分的目标是爬取股吧的帖子信息，中国华融的名称代码为hk02799。 \n",
    "首页： http://guba.eastmoney.com/list,hk02799,1,f.html 第二页： http://guba.eastmoney.com/list,hk02799,1,f_{2}.html 第{i}页： http://guba.eastmoney.com/list,hk02799,1,f_{}.html \n",
    "通过观察，可以看出股吧链接后缀主要由三部分组成：list、名称代码、页数。 因此，我们可以构建for循环，爬取多页的数据。\n",
    "\"\"\""
   ]
  },
  {
   "cell_type": "code",
   "execution_count": null,
   "metadata": {},
   "outputs": [],
   "source": []
  }
 ],
 "metadata": {
  "kernelspec": {
   "display_name": "Python 3",
   "language": "python",
   "name": "python3"
  },
  "language_info": {
   "codemirror_mode": {
    "name": "ipython",
    "version": 3
   },
   "file_extension": ".py",
   "mimetype": "text/x-python",
   "name": "python",
   "nbconvert_exporter": "python",
   "pygments_lexer": "ipython3",
   "version": "3.7.0"
  },
  "toc": {
   "base_numbering": 1,
   "nav_menu": {},
   "number_sections": true,
   "sideBar": true,
   "skip_h1_title": false,
   "title_cell": "Table of Contents",
   "title_sidebar": "Contents",
   "toc_cell": false,
   "toc_position": {},
   "toc_section_display": true,
   "toc_window_display": false
  },
  "varInspector": {
   "cols": {
    "lenName": 16,
    "lenType": 16,
    "lenVar": 40
   },
   "kernels_config": {
    "python": {
     "delete_cmd_postfix": "",
     "delete_cmd_prefix": "del ",
     "library": "var_list.py",
     "varRefreshCmd": "print(var_dic_list())"
    },
    "r": {
     "delete_cmd_postfix": ") ",
     "delete_cmd_prefix": "rm(",
     "library": "var_list.r",
     "varRefreshCmd": "cat(var_dic_list()) "
    }
   },
   "types_to_exclude": [
    "module",
    "function",
    "builtin_function_or_method",
    "instance",
    "_Feature"
   ],
   "window_display": false
  }
 },
 "nbformat": 4,
 "nbformat_minor": 5
}
