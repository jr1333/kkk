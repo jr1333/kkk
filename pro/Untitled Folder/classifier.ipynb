{
 "cells": [
  {
   "cell_type": "code",
   "execution_count": null,
   "metadata": {},
   "outputs": [],
   "source": [
    "# classifier\n",
    "import pandas as pd\n",
    "from sklearn.feature_extraction.text import TfidfVectorizer\n",
    "from sklearn.model_selection import train_test_split\n",
    "from sklearn.ensemble import RandomForestClassifier, BaggingClassifier\n",
    "from sklearn.discriminant_analysis import QuadraticDiscriminantAnalysis\n",
    "from sklearn.naive_bayes import MultinomialNB, GaussianNB\n",
    "from sklearn.svm import SVC, LinearSVC\n",
    "from sklearn.tree import DecisionTreeClassifier\n",
    "from sklearn.metrics import classification_report\n",
    "\n",
    "# 读取 Excel 文件\n",
    "df = pd.read_excel('results.xlsx')"
   ]
  },
  {
   "cell_type": "code",
   "execution_count": null,
   "metadata": {},
   "outputs": [],
   "source": [
    "# 创建 TfidfVectorizer 对象\n",
    "vectorizer = TfidfVectorizer()\n",
    "\n",
    "# 对文本数据进行 TF-IDF 向量化\n",
    "X = vectorizer.fit_transform(df['Commit Message'])\n",
    "y = df['Result']\n",
    "\n",
    "# 划分训练集和测试集\n",
    "X_train, X_test, y_train, y_test = train_test_split(X, y, test_size=0.2, random_state=42)\n",
    "\n",
    "# 定义分类器列表\n",
    "classifiers = [\n",
    "    RandomForestClassifier(),\n",
    "    QuadraticDiscriminantAnalysis(),\n",
    "    MultinomialNB(),\n",
    "    GaussianNB(),\n",
    "    BaggingClassifier(),\n",
    "    SVC(),\n",
    "    LinearSVC(),\n",
    "    DecisionTreeClassifier()\n",
    "]\n",
    "\n",
    "# 训练和评估分类器\n",
    "for classifier in classifiers:\n",
    "    classifier_name = classifier.__class__.__name__\n",
    "    print(f\"Training and evaluating {classifier_name}...\")\n",
    "    classifier.fit(X_train, y_train)\n",
    "    y_pred = classifier.predict(X_test)\n",
    "    report = classification_report(y_test, y_pred)\n",
    "    print(report)\n",
    "    print(\"\")"
   ]
  }
 ],
 "metadata": {
  "kernelspec": {
   "display_name": "Python 3",
   "language": "python",
   "name": "python3"
  },
  "language_info": {
   "codemirror_mode": {
    "name": "ipython",
    "version": 3
   },
   "file_extension": ".py",
   "mimetype": "text/x-python",
   "name": "python",
   "nbconvert_exporter": "python",
   "pygments_lexer": "ipython3",
   "version": "3.7.0"
  }
 },
 "nbformat": 4,
 "nbformat_minor": 2
}
