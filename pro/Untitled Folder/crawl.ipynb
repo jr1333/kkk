{
 "cells": [
  {
   "cell_type": "code",
   "execution_count": 3,
   "metadata": {},
   "outputs": [],
   "source": [
    "#用github cli从特定库中读取commits，并存入txt中\n",
    "#gh api repos/anthonycr/Lightning-Browser/commits --jq \".[].commit.message\" --paginate > commits.txt"
   ]
  },
  {
   "cell_type": "code",
   "execution_count": 4,
   "metadata": {},
   "outputs": [],
   "source": [
    "import pandas as pd\n",
    "# 从文本文件读取提交消息\n",
    "with open('lighting_browser.txt', 'r',encoding='utf-8') as file:\n",
    "    commits = file.read().splitlines()\n",
    "\n",
    "# 创建一个数据框\n",
    "df = pd.DataFrame({'Commit Message': commits})\n",
    "\n",
    "# 将数据框保存为 Excel 文件\n",
    "df.to_excel('lighting_browser.xlsx', index=False)"
   ]
  },
  {
   "cell_type": "code",
   "execution_count": 6,
   "metadata": {},
   "outputs": [],
   "source": [
    "import pandas as pd\n",
    "\n",
    "# 读取 Excel 文件\n",
    "df = pd.read_excel('lighting_browser.xlsx')\n",
    "\n",
    "# 删除空行\n",
    "df.dropna(inplace=True)\n",
    "\n",
    "# 重新保存 Excel 文件\n",
    "df.to_excel('lighting_browser.xlsx', index=False)\n"
   ]
  },
  {
   "cell_type": "code",
   "execution_count": 5,
   "metadata": {},
   "outputs": [],
   "source": [
    "#wulkanowy\n",
    "import pandas as pd\n",
    "# 从文本文件读取提交消息\n",
    "with open('wulkanowy.txt', 'r',encoding='utf-8') as file:\n",
    "    commits = file.read().splitlines()\n",
    "\n",
    "# 创建一个数据框\n",
    "df = pd.DataFrame({'Commit Message': commits})\n",
    "\n",
    "# 将数据框保存为 Excel 文件\n",
    "df.to_excel('wulkanowy.xlsx', index=False)\n"
   ]
  },
  {
   "cell_type": "code",
   "execution_count": 7,
   "metadata": {},
   "outputs": [],
   "source": [
    "import pandas as pd\n",
    "\n",
    "# 读取 Excel 文件\n",
    "df = pd.read_excel('wulkanowy.xlsx')\n",
    "\n",
    "# 删除空行\n",
    "df.dropna(inplace=True)\n",
    "\n",
    "# 重新保存 Excel 文件\n",
    "df.to_excel('wulkanowy.xlsx', index=False)\n"
   ]
  },
  {
   "cell_type": "code",
   "execution_count": 9,
   "metadata": {},
   "outputs": [],
   "source": [
    "#HTTP-Shortcuts\n",
    "import pandas as pd\n",
    "# 从文本文件读取提交消息\n",
    "with open('HTTP-Shortcuts.txt', 'r',encoding='utf-8') as file:\n",
    "    commits = file.read().splitlines()\n",
    "\n",
    "# 创建一个数据框\n",
    "df = pd.DataFrame({'Commit Message': commits})\n",
    "\n",
    "# 将数据框保存为 Excel 文件\n",
    "df.to_excel('HTTP-Shortcuts.xlsx', index=False)"
   ]
  },
  {
   "cell_type": "code",
   "execution_count": 10,
   "metadata": {},
   "outputs": [],
   "source": [
    "import pandas as pd\n",
    "\n",
    "# 读取 Excel 文件\n",
    "df = pd.read_excel('HTTP-Shortcuts.xlsx')\n",
    "\n",
    "# 删除空行\n",
    "df.dropna(inplace=True)\n",
    "\n",
    "# 重新保存 Excel 文件\n",
    "df.to_excel('HTTP-Shortcuts.xlsx', index=False)\n"
   ]
  },
  {
   "cell_type": "code",
   "execution_count": 12,
   "metadata": {},
   "outputs": [],
   "source": [
    "#avare\n",
    "import pandas as pd\n",
    "# 从文本文件读取提交消息\n",
    "with open('avare.txt', 'r',encoding='utf-8') as file:\n",
    "    commits = file.read().splitlines()\n",
    "\n",
    "# 创建一个数据框\n",
    "df = pd.DataFrame({'Commit Message': commits})\n",
    "\n",
    "# 将数据框保存为 Excel 文件\n",
    "df.to_excel('avare.xlsx', index=False)"
   ]
  },
  {
   "cell_type": "code",
   "execution_count": 13,
   "metadata": {},
   "outputs": [],
   "source": [
    "import pandas as pd\n",
    "\n",
    "# 读取 Excel 文件\n",
    "df = pd.read_excel('avare.xlsx')\n",
    "\n",
    "# 删除空行\n",
    "df.dropna(inplace=True)\n",
    "\n",
    "# 重新保存 Excel 文件\n",
    "df.to_excel('avare.xlsx', index=False)"
   ]
  },
  {
   "cell_type": "code",
   "execution_count": 14,
   "metadata": {},
   "outputs": [],
   "source": [
    "#rbb\n",
    "import pandas as pd\n",
    "# 从文本文件读取提交消息\n",
    "with open('rbb.txt', 'r',encoding='utf-8') as file:\n",
    "    commits = file.read().splitlines()\n",
    "\n",
    "# 创建一个数据框\n",
    "df = pd.DataFrame({'Commit Message': commits})\n",
    "\n",
    "# 将数据框保存为 Excel 文件\n",
    "df.to_excel('rbb.xlsx', index=False)"
   ]
  },
  {
   "cell_type": "code",
   "execution_count": 15,
   "metadata": {},
   "outputs": [],
   "source": [
    "import pandas as pd\n",
    "\n",
    "# 读取 Excel 文件\n",
    "df = pd.read_excel('rbb.xlsx')\n",
    "\n",
    "# 删除空行\n",
    "df.dropna(inplace=True)\n",
    "\n",
    "# 重新保存 Excel 文件\n",
    "df.to_excel('rbb.xlsx', index=False)"
   ]
  },
  {
   "cell_type": "code",
   "execution_count": 16,
   "metadata": {},
   "outputs": [],
   "source": [
    "#SMSSync\n",
    "import pandas as pd\n",
    "# 从文本文件读取提交消息\n",
    "with open('SMSSync.txt', 'r',encoding='utf-8') as file:\n",
    "    commits = file.read().splitlines()\n",
    "\n",
    "# 创建一个数据框\n",
    "df = pd.DataFrame({'Commit Message': commits})\n",
    "\n",
    "# 将数据框保存为 Excel 文件\n",
    "df.to_excel('SMSSync.xlsx', index=False)"
   ]
  },
  {
   "cell_type": "code",
   "execution_count": 17,
   "metadata": {},
   "outputs": [],
   "source": [
    "import pandas as pd\n",
    "\n",
    "# 读取 Excel 文件\n",
    "df = pd.read_excel('SMSSync.xlsx')\n",
    "\n",
    "# 删除空行\n",
    "df.dropna(inplace=True)\n",
    "\n",
    "# 重新保存 Excel 文件\n",
    "df.to_excel('SMSSync.xlsx', index=False)"
   ]
  },
  {
   "cell_type": "code",
   "execution_count": 18,
   "metadata": {},
   "outputs": [],
   "source": [
    "#combine\n",
    "import pandas as pd\n",
    "import glob\n",
    "\n",
    "# 获取所有要合并的 Excel 文件的文件路径\n",
    "excel_files = glob.glob('*.xlsx')\n",
    "\n",
    "# 创建一个空的 DataFrame 用于存储合并后的数据\n",
    "merged_data = pd.DataFrame()\n",
    "\n",
    "# 逐个读取并合并 Excel 文件\n",
    "for file in excel_files:\n",
    "    df = pd.read_excel(file)\n",
    "    merged_data = merged_data.append(df, ignore_index=True)\n",
    "\n",
    "# 将合并后的数据保存到一个新的 Excel 文件\n",
    "merged_data.to_excel('merged.xlsx', index=False)"
   ]
  },
  {
   "cell_type": "code",
   "execution_count": null,
   "metadata": {},
   "outputs": [],
   "source": []
  }
 ],
 "metadata": {
  "kernelspec": {
   "display_name": "Python 3",
   "language": "python",
   "name": "python3"
  },
  "language_info": {
   "codemirror_mode": {
    "name": "ipython",
    "version": 3
   },
   "file_extension": ".py",
   "mimetype": "text/x-python",
   "name": "python",
   "nbconvert_exporter": "python",
   "pygments_lexer": "ipython3",
   "version": "3.7.0"
  }
 },
 "nbformat": 4,
 "nbformat_minor": 2
}
