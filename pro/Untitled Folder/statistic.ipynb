{
 "cells": [
  {
   "cell_type": "code",
   "execution_count": null,
   "metadata": {},
   "outputs": [],
   "source": [
    "#统计-person vs p-value\n",
    "import pandas as pd\n",
    "from scipy.stats import pearsonr\n",
    "\n",
    "# 读取 Excel 文件\n",
    "df = pd.read_excel('data.xlsx')\n",
    "\n",
    "# 计算提交数与可用性改进的皮尔逊系数和 p 值\n",
    "commits = df['提交数']\n",
    "improvements = df['可用性改进']\n",
    "commits_corr, commits_p_value = pearsonr(commits, improvements)\n",
    "print(f\"提交数与可用性改进的皮尔逊系数: {commits_corr}\")\n",
    "print(f\"提交数与可用性改进的 p 值: {commits_p_value}\")\n",
    "\n",
    "# 计算星数与可用性改进的皮尔逊系数和 p 值\n",
    "stars = df['星数']\n",
    "stars_corr, stars_p_value = pearsonr(stars, improvements)\n",
    "print(f\"星数与可用性改进的皮尔逊系数: {stars_corr}\")\n",
    "print(f\"星数与可用性改进的 p 值: {stars_p_value}\")\n",
    "\n",
    "# 计算开发天数与可用性改进的皮尔逊系数和 p 值\n",
    "dev_days = df['开发天数']\n",
    "dev_days_corr, dev_days_p_value = pearsonr(dev_days, improvements)\n",
    "print(f\"开发天数与可用性改进的皮尔逊系数: {dev_days_corr}\")\n",
    "print(f\"开发天数与可用性改进的 p 值: {dev_days_p_value}\")\n",
    "\n",
    "# 计算开发人数与可用性改进的皮尔逊系数和 p 值\n",
    "dev_count = df['开发人数']\n",
    "dev_count_corr, dev_count_p_value = pearsonr(dev_count, improvements)\n",
    "print(f\"开发人数与可用性改进的皮尔逊系数: {dev_count_corr}\")\n",
    "print(f\"开发人数与可用性改进的 p 值: {dev_count_p_value}\")\n",
    "\n",
    "# 计算分支数与可用性改进的皮尔逊系数和 p 值\n",
    "branches = df['分支数']\n",
    "branches_corr, branches_p_value = pearsonr(branches, improvements)\n",
    "print(f\"分支数与可用性改进的皮尔逊系数: {branches_corr}\")\n",
    "print(f\"分支数与可用性改进的 p 值: {branches_p_value}\")\n",
    "\n",
    "# 计算代码行数与可用性改进的皮尔逊系数和 p 值\n",
    "loc = df['代码行数']\n",
    "loc_corr, loc_p_value = pearsonr(loc, improvements)\n",
    "print(f\"代码行数与可用性改进的皮尔逊系数: {loc_corr}\")\n",
    "print(f\"代码行数与可用性改进的 p 值: {loc_p_value}\")"
   ]
  },
  {
   "cell_type": "code",
   "execution_count": null,
   "metadata": {},
   "outputs": [],
   "source": []
  }
 ],
 "metadata": {
  "kernelspec": {
   "display_name": "Python 3",
   "language": "python",
   "name": "python3"
  },
  "language_info": {
   "codemirror_mode": {
    "name": "ipython",
    "version": 3
   },
   "file_extension": ".py",
   "mimetype": "text/x-python",
   "name": "python",
   "nbconvert_exporter": "python",
   "pygments_lexer": "ipython3",
   "version": "3.7.0"
  }
 },
 "nbformat": 4,
 "nbformat_minor": 2
}
